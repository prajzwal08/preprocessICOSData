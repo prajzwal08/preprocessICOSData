{
 "cells": [
  {
   "cell_type": "code",
   "execution_count": 12,
   "metadata": {},
   "outputs": [],
   "source": [
    "import xarray as xr\n",
    "import pandas as pd\n",
    "import os\n",
    "from datetime import datetime"
   ]
  },
  {
   "cell_type": "code",
   "execution_count": 44,
   "metadata": {},
   "outputs": [],
   "source": [
    "path_input_pystemmus= \"/home/khanalp/data/processed/input_pystemmus\""
   ]
  },
  {
   "cell_type": "code",
   "execution_count": 45,
   "metadata": {},
   "outputs": [],
   "source": [
    "# List all files in the directory\n",
    "files = os.listdir(path_input_pystemmus)\n",
    "\n",
    "# Filter out only NetCDF files\n",
    "nc_files = [file for file in files if file.endswith('.nc')]"
   ]
  },
  {
   "cell_type": "code",
   "execution_count": 46,
   "metadata": {},
   "outputs": [],
   "source": [
    "# Initialize an empty list to store data\n",
    "data = []"
   ]
  },
  {
   "cell_type": "code",
   "execution_count": 47,
   "metadata": {},
   "outputs": [
    {
     "name": "stdout",
     "output_type": "stream",
     "text": [
      "2016-01-01T00:00:00.000000000 2019-12-31T23:30:00.000000000\n",
      "2004-01-01T00:00:00.000000000 2020-12-31T23:30:00.000000000\n",
      "2014-01-01T00:00:00.000000000 2020-12-31T23:30:00.000000000\n",
      "2018-01-01T00:00:00.000000000 2020-12-31T23:30:00.000000000\n",
      "2005-01-01T00:00:00.000000000 2020-12-31T23:30:00.000000000\n",
      "2004-01-01T00:00:00.000000000 2020-12-31T23:30:00.000000000\n",
      "2005-01-01T00:00:00.000000000 2019-12-31T23:30:00.000000000\n",
      "2003-01-01T00:00:00.000000000 2019-12-31T23:30:00.000000000\n",
      "2004-01-01T00:00:00.000000000 2019-12-31T23:30:00.000000000\n",
      "2011-01-01T00:00:00.000000000 2020-12-31T23:30:00.000000000\n",
      "2004-01-01T00:00:00.000000000 2020-12-31T23:30:00.000000000\n",
      "2004-01-01T00:00:00.000000000 2019-12-31T23:30:00.000000000\n",
      "2015-01-01T00:00:00.000000000 2019-12-31T23:30:00.000000000\n",
      "2010-01-01T00:00:00.000000000 2019-12-31T23:30:00.000000000\n",
      "2003-01-01T00:00:00.000000000 2020-12-31T23:30:00.000000000\n",
      "2005-01-01T00:00:00.000000000 2020-12-31T23:30:00.000000000\n",
      "2014-01-01T00:00:00.000000000 2020-12-31T23:30:00.000000000\n",
      "2003-01-01T00:00:00.000000000 2020-12-31T23:30:00.000000000\n",
      "2015-01-01T00:00:00.000000000 2019-12-31T23:30:00.000000000\n",
      "2010-01-01T00:00:00.000000000 2019-12-31T23:30:00.000000000\n",
      "2004-01-01T00:00:00.000000000 2019-12-31T23:30:00.000000000\n",
      "2003-01-01T00:00:00.000000000 2019-12-31T23:30:00.000000000\n",
      "2004-01-01T00:00:00.000000000 2019-12-31T23:30:00.000000000\n",
      "2012-01-01T00:00:00.000000000 2019-12-31T23:30:00.000000000\n",
      "2003-01-01T00:00:00.000000000 2019-12-31T23:30:00.000000000\n",
      "2018-01-01T00:00:00.000000000 2019-12-31T23:30:00.000000000\n",
      "2009-01-01T00:00:00.000000000 2020-12-31T23:30:00.000000000\n",
      "2016-01-01T00:00:00.000000000 2020-12-31T23:30:00.000000000\n",
      "2014-01-01T00:00:00.000000000 2020-12-31T23:30:00.000000000\n",
      "2008-01-01T00:00:00.000000000 2019-12-31T23:30:00.000000000\n",
      "2012-01-01T00:00:00.000000000 2020-12-31T23:30:00.000000000\n",
      "2003-01-01T00:00:00.000000000 2019-12-31T23:30:00.000000000\n",
      "2008-01-01T00:00:00.000000000 2019-12-31T23:30:00.000000000\n",
      "2003-01-01T00:00:00.000000000 2020-12-31T23:30:00.000000000\n",
      "2003-01-01T00:00:00.000000000 2020-12-31T23:30:00.000000000\n",
      "2013-01-01T00:00:00.000000000 2020-12-31T23:30:00.000000000\n",
      "2003-01-01T00:00:00.000000000 2019-12-31T23:30:00.000000000\n",
      "2015-01-01T00:00:00.000000000 2020-12-31T23:30:00.000000000\n",
      "2003-01-01T00:00:00.000000000 2019-12-31T23:30:00.000000000\n",
      "2015-01-01T00:00:00.000000000 2020-12-31T23:30:00.000000000\n",
      "2014-01-01T00:00:00.000000000 2020-12-31T23:30:00.000000000\n",
      "2014-01-01T00:00:00.000000000 2020-12-31T23:30:00.000000000\n",
      "2014-01-01T00:00:00.000000000 2020-12-31T23:30:00.000000000\n",
      "2003-01-01T00:00:00.000000000 2019-12-31T23:30:00.000000000\n"
     ]
    },
    {
     "ename": "ValueError",
     "evalue": "did not find a match in any of xarray's currently installed IO backends ['netcdf4', 'scipy', 'rasterio']. Consider explicitly selecting one of the installed engines via the ``engine`` parameter, or installing additional IO dependencies, see:\nhttps://docs.xarray.dev/en/stable/getting-started-guide/installing.html\nhttps://docs.xarray.dev/en/stable/user-guide/io.html",
     "output_type": "error",
     "traceback": [
      "\u001b[0;31m---------------------------------------------------------------------------\u001b[0m",
      "\u001b[0;31mValueError\u001b[0m                                Traceback (most recent call last)",
      "Cell \u001b[0;32mIn[47], line 5\u001b[0m\n\u001b[1;32m      3\u001b[0m \u001b[38;5;66;03m#print(path)\u001b[39;00m\n\u001b[1;32m      4\u001b[0m station_name \u001b[38;5;241m=\u001b[39m file\u001b[38;5;241m.\u001b[39msplit(\u001b[38;5;124m'\u001b[39m\u001b[38;5;124m_\u001b[39m\u001b[38;5;124m'\u001b[39m)[\u001b[38;5;241m1\u001b[39m]\n\u001b[0;32m----> 5\u001b[0m ds \u001b[38;5;241m=\u001b[39m \u001b[43mxr\u001b[49m\u001b[38;5;241;43m.\u001b[39;49m\u001b[43mopen_dataset\u001b[49m\u001b[43m(\u001b[49m\u001b[43mpath\u001b[49m\u001b[43m)\u001b[49m\n\u001b[1;32m      6\u001b[0m \u001b[38;5;66;03m# Get the minimum and maximum time values\u001b[39;00m\n\u001b[1;32m      7\u001b[0m min_time \u001b[38;5;241m=\u001b[39m ds\u001b[38;5;241m.\u001b[39mtime\u001b[38;5;241m.\u001b[39mmin()\u001b[38;5;241m.\u001b[39mvalues\n",
      "File \u001b[0;32m~/.local/lib/python3.8/site-packages/xarray/backends/api.py:525\u001b[0m, in \u001b[0;36mopen_dataset\u001b[0;34m(filename_or_obj, engine, chunks, cache, decode_cf, mask_and_scale, decode_times, decode_timedelta, use_cftime, concat_characters, decode_coords, drop_variables, inline_array, backend_kwargs, **kwargs)\u001b[0m\n\u001b[1;32m    522\u001b[0m     kwargs\u001b[38;5;241m.\u001b[39mupdate(backend_kwargs)\n\u001b[1;32m    524\u001b[0m \u001b[38;5;28;01mif\u001b[39;00m engine \u001b[38;5;129;01mis\u001b[39;00m \u001b[38;5;28;01mNone\u001b[39;00m:\n\u001b[0;32m--> 525\u001b[0m     engine \u001b[38;5;241m=\u001b[39m \u001b[43mplugins\u001b[49m\u001b[38;5;241;43m.\u001b[39;49m\u001b[43mguess_engine\u001b[49m\u001b[43m(\u001b[49m\u001b[43mfilename_or_obj\u001b[49m\u001b[43m)\u001b[49m\n\u001b[1;32m    527\u001b[0m backend \u001b[38;5;241m=\u001b[39m plugins\u001b[38;5;241m.\u001b[39mget_backend(engine)\n\u001b[1;32m    529\u001b[0m decoders \u001b[38;5;241m=\u001b[39m _resolve_decoders_kwargs(\n\u001b[1;32m    530\u001b[0m     decode_cf,\n\u001b[1;32m    531\u001b[0m     open_backend_dataset_parameters\u001b[38;5;241m=\u001b[39mbackend\u001b[38;5;241m.\u001b[39mopen_dataset_parameters,\n\u001b[0;32m   (...)\u001b[0m\n\u001b[1;32m    537\u001b[0m     decode_coords\u001b[38;5;241m=\u001b[39mdecode_coords,\n\u001b[1;32m    538\u001b[0m )\n",
      "File \u001b[0;32m~/.local/lib/python3.8/site-packages/xarray/backends/plugins.py:177\u001b[0m, in \u001b[0;36mguess_engine\u001b[0;34m(store_spec)\u001b[0m\n\u001b[1;32m    169\u001b[0m \u001b[38;5;28;01melse\u001b[39;00m:\n\u001b[1;32m    170\u001b[0m     error_msg \u001b[38;5;241m=\u001b[39m (\n\u001b[1;32m    171\u001b[0m         \u001b[38;5;124m\"\u001b[39m\u001b[38;5;124mfound the following matches with the input file in xarray\u001b[39m\u001b[38;5;124m'\u001b[39m\u001b[38;5;124ms IO \u001b[39m\u001b[38;5;124m\"\u001b[39m\n\u001b[1;32m    172\u001b[0m         \u001b[38;5;124mf\u001b[39m\u001b[38;5;124m\"\u001b[39m\u001b[38;5;124mbackends: \u001b[39m\u001b[38;5;132;01m{\u001b[39;00mcompatible_engines\u001b[38;5;132;01m}\u001b[39;00m\u001b[38;5;124m. But their dependencies may not be installed, see:\u001b[39m\u001b[38;5;130;01m\\n\u001b[39;00m\u001b[38;5;124m\"\u001b[39m\n\u001b[1;32m    173\u001b[0m         \u001b[38;5;124m\"\u001b[39m\u001b[38;5;124mhttps://docs.xarray.dev/en/stable/user-guide/io.html \u001b[39m\u001b[38;5;130;01m\\n\u001b[39;00m\u001b[38;5;124m\"\u001b[39m\n\u001b[1;32m    174\u001b[0m         \u001b[38;5;124m\"\u001b[39m\u001b[38;5;124mhttps://docs.xarray.dev/en/stable/getting-started-guide/installing.html\u001b[39m\u001b[38;5;124m\"\u001b[39m\n\u001b[1;32m    175\u001b[0m     )\n\u001b[0;32m--> 177\u001b[0m \u001b[38;5;28;01mraise\u001b[39;00m \u001b[38;5;167;01mValueError\u001b[39;00m(error_msg)\n",
      "\u001b[0;31mValueError\u001b[0m: did not find a match in any of xarray's currently installed IO backends ['netcdf4', 'scipy', 'rasterio']. Consider explicitly selecting one of the installed engines via the ``engine`` parameter, or installing additional IO dependencies, see:\nhttps://docs.xarray.dev/en/stable/getting-started-guide/installing.html\nhttps://docs.xarray.dev/en/stable/user-guide/io.html"
     ]
    }
   ],
   "source": [
    "for file in nc_files:\n",
    "    path = os.path.join(path_input_pystemmus,file)\n",
    "    #print(path)\n",
    "    station_name = file.split('_')[1]\n",
    "    ds = xr.open_dataset(path)\n",
    "    # Get the minimum and maximum time values\n",
    "    min_time = ds.time.min().values\n",
    "    max_time = ds.time.max().values\n",
    "    print(min_time,max_time)\n",
    "    # Format the time values as required\n",
    "       # Format the time values as required\n",
    "    min_time_str = datetime.utcfromtimestamp(min_time.tolist() / 1e9).strftime('%Y-%m-%dT%H:%M')\n",
    "    max_time_str = datetime.utcfromtimestamp(max_time.tolist() / 1e9).strftime('%Y-%m-%dT%H:%M')\n",
    "    # Append data to the list\n",
    "    data.append([station_name, min_time_str, max_time_str])\n",
    "    \n",
    "    # Close the dataset\n",
    "    ds.close()\n",
    "    break\n",
    "    "
   ]
  },
  {
   "cell_type": "code",
   "execution_count": 26,
   "metadata": {},
   "outputs": [],
   "source": [
    "# Create a DataFrame from the list of data\n",
    "df = pd.DataFrame(data, columns=['Station_Name', 'Start_Time', 'End_Time'])"
   ]
  },
  {
   "cell_type": "code",
   "execution_count": 27,
   "metadata": {},
   "outputs": [
    {
     "data": {
      "text/html": [
       "<div>\n",
       "<style scoped>\n",
       "    .dataframe tbody tr th:only-of-type {\n",
       "        vertical-align: middle;\n",
       "    }\n",
       "\n",
       "    .dataframe tbody tr th {\n",
       "        vertical-align: top;\n",
       "    }\n",
       "\n",
       "    .dataframe thead th {\n",
       "        text-align: right;\n",
       "    }\n",
       "</style>\n",
       "<table border=\"1\" class=\"dataframe\">\n",
       "  <thead>\n",
       "    <tr style=\"text-align: right;\">\n",
       "      <th></th>\n",
       "      <th>Station_Name</th>\n",
       "      <th>Start_Time</th>\n",
       "      <th>End_Time</th>\n",
       "    </tr>\n",
       "  </thead>\n",
       "  <tbody>\n",
       "    <tr>\n",
       "      <th>0</th>\n",
       "      <td>BE-Maa</td>\n",
       "      <td>2016-01-01T00:00</td>\n",
       "      <td>2019-12-31T23:00</td>\n",
       "    </tr>\n",
       "  </tbody>\n",
       "</table>\n",
       "</div>"
      ],
      "text/plain": [
       "  Station_Name        Start_Time          End_Time\n",
       "0       BE-Maa  2016-01-01T00:00  2019-12-31T23:00"
      ]
     },
     "execution_count": 27,
     "metadata": {},
     "output_type": "execute_result"
    }
   ],
   "source": [
    "df"
   ]
  },
  {
   "cell_type": "code",
   "execution_count": 40,
   "metadata": {},
   "outputs": [],
   "source": [
    "abcd = xr.open_dataset(os.path.join(path_input_pystemmus,\"FLX_DE-Gri_FLUXNET2015_FULLSET_2004-2019.nc\"))"
   ]
  },
  {
   "cell_type": "code",
   "execution_count": 41,
   "metadata": {},
   "outputs": [
    {
     "data": {
      "text/plain": [
       "numpy.datetime64('2019-12-31T23:00:00.000000000')"
      ]
     },
     "execution_count": 41,
     "metadata": {},
     "output_type": "execute_result"
    }
   ],
   "source": [
    "abcd.time.max().values"
   ]
  },
  {
   "cell_type": "code",
   "execution_count": null,
   "metadata": {},
   "outputs": [],
   "source": []
  }
 ],
 "metadata": {
  "kernelspec": {
   "display_name": "Python 3",
   "language": "python",
   "name": "python3"
  },
  "language_info": {
   "codemirror_mode": {
    "name": "ipython",
    "version": 3
   },
   "file_extension": ".py",
   "mimetype": "text/x-python",
   "name": "python",
   "nbconvert_exporter": "python",
   "pygments_lexer": "ipython3",
   "version": "3.8.10"
  }
 },
 "nbformat": 4,
 "nbformat_minor": 2
}
